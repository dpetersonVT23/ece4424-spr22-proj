{
 "cells": [
  {
   "cell_type": "markdown",
   "metadata": {
    "id": "NUjxBED56Mmp"
   },
   "source": [
    "\n",
    "---\n",
    "# **License Plate Detection**\n",
    "##**David Peterson - ECE 4424 - Spring 2022 Project - AMLPR**\n",
    "---\n",
    "\n",
    "### **Data Loading and Pre-Processing**###\n",
    "1.   Mount Google Drive\n",
    "2.   Load original license plate image dataset - location labels\n",
    "3.   Modify original license plate image dataset structure for YOLOv3 integration\n",
    "\n",
    "**Dataset Modification Details:**  \n",
    "\n",
    "- Dataset Train-Test Split: 80% Train | 20% Train\n",
    "\n",
    "- File Structure in Detection Directory:\n",
    "> lp_loc_img_data (original)   \n",
    "> detection_data (modified)  \n",
    "> darknet   \n",
    "> classes.names  \n",
    "> darknet-yolov3-custom.cfg  \n",
    "> train.log  \n",
    "> yolov3.data  \n",
    "\n",
    "- Original format of dataset:  \n",
    "  - Separate train and test text files with image file paths and labels for each image\n",
    "> images/imageX.jpg  \n",
    "> imageX label   \n",
    "> ...\n",
    "\n",
    "- Modified format of dataset:   \n",
    "  - Separate train and test text files with only image file paths  \n",
    "  - Separate labels directory with text files for individual image labels\n",
    "\n",
    "  - Modify Label Format\n",
    "    - Current Label Format:  \n",
    "  > Top-Left X | Top-Left Y | Bottom-Right X | Bottom-Right Y \n",
    "\n",
    "    - Normalized Label Format:\n",
    "  > Class ID | Center-X | Center-Y | Width | Height\n",
    "\n",
    "  - File Structure in detection_data directory:\n",
    "> detection_train.txt  \n",
    "> detection_test.txt  \n",
    "> images  \n",
    "> weights  \n",
    "> labels  \n",
    "\n"
   ]
  },
  {
   "cell_type": "code",
   "execution_count": null,
   "metadata": {
    "colab": {
     "base_uri": "https://localhost:8080/"
    },
    "executionInfo": {
     "elapsed": 947,
     "status": "ok",
     "timestamp": 1648749061998,
     "user": {
      "displayName": "David Peterson",
      "userId": "16473186079830766499"
     },
     "user_tz": 240
    },
    "id": "Dw2HEe2YMtn2",
    "outputId": "e58dcf6f-0013-4795-b90f-e97c17d1a3ca"
   },
   "outputs": [
    {
     "name": "stdout",
     "output_type": "stream",
     "text": [
      "Drive already mounted at /content/drive; to attempt to forcibly remount, call drive.mount(\"/content/drive\", force_remount=True).\n"
     ]
    }
   ],
   "source": [
    "# mount google drive\n",
    "from google.colab import drive\n",
    "drive.mount('/content/drive')"
   ]
  },
  {
   "cell_type": "code",
   "execution_count": null,
   "metadata": {
    "colab": {
     "base_uri": "https://localhost:8080/"
    },
    "executionInfo": {
     "elapsed": 99,
     "status": "ok",
     "timestamp": 1648749068454,
     "user": {
      "displayName": "David Peterson",
      "userId": "16473186079830766499"
     },
     "user_tz": 240
    },
    "id": "oRo2jOyU862d",
    "outputId": "94248596-f495-4928-e36e-cc78cfbaea58"
   },
   "outputs": [
    {
     "name": "stdout",
     "output_type": "stream",
     "text": [
      "Path to detection directory: /content/drive/MyDrive/ECE4424/Project/detection\n"
     ]
    }
   ],
   "source": [
    "# append the directory to your python path using sys\n",
    "import sys\n",
    "import os\n",
    "prefix = '/content/drive/MyDrive/'\n",
    "\n",
    "# customized path to detection directory\n",
    "cust_path_detection = 'ECE4424/Project/detection'\n",
    "sys_path = prefix + cust_path_detection\n",
    "sys.path.append(sys_path)\n",
    "\n",
    "print(\"Path to detection directory: {}\".format(sys_path))"
   ]
  },
  {
   "cell_type": "code",
   "execution_count": null,
   "metadata": {
    "colab": {
     "base_uri": "https://localhost:8080/"
    },
    "executionInfo": {
     "elapsed": 117,
     "status": "ok",
     "timestamp": 1648749070095,
     "user": {
      "displayName": "David Peterson",
      "userId": "16473186079830766499"
     },
     "user_tz": 240
    },
    "id": "NkUjquCN91qb",
    "outputId": "f2e6fc67-4a4f-4b3d-e546-65cffc7f257c"
   },
   "outputs": [
    {
     "name": "stdout",
     "output_type": "stream",
     "text": [
      "Train Data: {'/images/cars4_052.jpg': (202, 247, 270, 270), '/images/cars2_021.jpg': (292, 249, 375, 276), '/images/cars4_074.jpg': (156, 253, 224, 281), '/images/cars4_010.jpg': (280, 269, 348, 295), '/images/cars3_026.jpg': (297, 217, 358, 242), '/images/cars4_085.jpg': (273, 231, 343, 258), '/images/cars063.jpg': (323, 240, 400, 263), '/images/cars4_061.jpg': (238, 218, 324, 246), '/images/cars4_080.jpg': (400, 248, 475, 275), '/images/cars4_128.jpg': (257, 242, 329, 266), '/images/cars4_127.jpg': (260, 219, 334, 247), '/images/cars4_065.jpg': (296, 247, 383, 281), '/images/cars4_037.jpg': (431, 355, 504, 382), '/images/cars060.jpg': (326, 292, 395, 315), '/images/cars4_105.jpg': (409, 96, 497, 129), '/images/cars4_116.jpg': (253, 270, 308, 286), '/images/cars4_124.jpg': (289, 258, 368, 289), '/images/cars2_052.jpg': (379, 207, 459, 232), '/images/cars4_060.jpg': (250, 229, 334, 257), '/images/cars4_005.jpg': (270, 233, 361, 260), '/images/cars056.jpg': (214, 207, 290, 228), '/images/cars4_020.jpg': (184, 217, 254, 244), '/images/cars2_035.jpg': (340, 262, 434, 294), '/images/cars2_032.jpg': (311, 194, 395, 226), '/images/cars4_055.jpg': (214, 301, 285, 324), '/images/cars2_068.jpg': (367, 281, 447, 309), '/images/cars2_042.jpg': (347, 220, 425, 250), '/images/cars4_026.jpg': (207, 245, 267, 270), '/images/cars2_043.jpg': (371, 210, 459, 238), '/images/cars2_073.jpg': (285, 275, 357, 299), '/images/cars4_091.jpg': (274, 214, 350, 238), '/images/cars4_096.jpg': (249, 241, 314, 263), '/images/cars3_017.jpg': (240, 297, 311, 322), '/images/cars2_066.jpg': (341, 270, 418, 295), '/images/cars2_049.jpg': (393, 202, 477, 233), '/images/cars4_108.jpg': (252, 214, 325, 238), '/images/cars4_099.jpg': (267, 329, 339, 356), '/images/cars3_024.jpg': (359, 338, 435, 362), '/images/cars4_081.jpg': (259, 231, 338, 259), '/images/cars2_017.jpg': (354, 328, 441, 352), '/images/cars027.jpg': (214, 294, 290, 321), '/images/cars2_014.jpg': (388, 355, 489, 390), '/images/cars4_114.jpg': (220, 290, 290, 313), '/images/cars4_014.jpg': (301, 225, 378, 250), '/images/cars2_007.jpg': (220, 250, 306, 278), '/images/cars026.jpg': (264, 219, 340, 244), '/images/cars4_117.jpg': (236, 218, 320, 251), '/images/cars3_020.jpg': (341, 335, 409, 355), '/images/cars4_107.jpg': (249, 214, 328, 243), '/images/cars3_019.jpg': (337, 349, 413, 371), '/images/cars061.jpg': (305, 288, 376, 312), '/images/cars4_092.jpg': (134, 359, 216, 387), '/images/cars066.jpg': (336, 249, 405, 271), '/images/cars2_061.jpg': (362, 204, 455, 230), '/images/cars4_054.jpg': (314, 337, 389, 366), '/images/cars2_005.jpg': (391, 329, 480, 356), '/images/cars4_033.jpg': (243, 226, 327, 253), '/images/cars3_011.jpg': (280, 242, 365, 270), '/images/cars036.jpg': (181, 282, 271, 314), '/images/cars4_073.jpg': (310, 308, 396, 337), '/images/cars070.jpg': (297, 210, 359, 234), '/images/cars2_045.jpg': (353, 210, 455, 244), '/images/cars4_015.jpg': (361, 238, 433, 267), '/images/cars4_008.jpg': (320, 292, 394, 318), '/images/cars2_044.jpg': (450, 286, 540, 318), '/images/cars4_083.jpg': (257, 231, 336, 254), '/images/cars032.jpg': (223, 214, 307, 241), '/images/cars065.jpg': (310, 211, 380, 234), '/images/cars040.jpg': (224, 307, 303, 335), '/images/cars4_069.jpg': (164, 208, 224, 229), '/images/cars3_013.jpg': (331, 352, 428, 381), '/images/cars4_109.jpg': (241, 198, 307, 223), '/images/cars2_025.jpg': (359, 246, 438, 273), '/images/cars4_007.jpg': (254, 304, 314, 323), '/images/cars4_129.jpg': (271, 206, 342, 231), '/images/cars2_010.jpg': (265, 215, 353, 243), '/images/cars4_030.jpg': (170, 364, 239, 385), '/images/cars4_097.jpg': (321, 309, 399, 337), '/images/cars3_007.jpg': (305, 269, 389, 294), '/images/cars4_019.jpg': (286, 218, 364, 250), '/images/cars4_048.jpg': (220, 205, 313, 237), '/images/cars4_113.jpg': (273, 184, 363, 212), '/images/cars2_034.jpg': (393, 296, 488, 321), '/images/cars4_039.jpg': (268, 255, 358, 289), '/images/cars3_031.jpg': (335, 237, 407, 262), '/images/cars4_126.jpg': (307, 239, 373, 261), '/images/cars4_131.jpg': (253, 220, 313, 242), '/images/cars4_110.jpg': (293, 246, 388, 278), '/images/cars3_027.jpg': (335, 234, 393, 255), '/images/cars3_021.jpg': (327, 333, 403, 357), '/images/cars4_056.jpg': (213, 229, 289, 256), '/images/cars3_010.jpg': (311, 311, 388, 339), '/images/cars3_009.jpg': (358, 221, 432, 246), '/images/cars4_125.jpg': (202, 261, 294, 293), '/images/cars4_040.jpg': (252, 235, 346, 267), '/images/cars052.jpg': (190, 222, 264, 250), '/images/cars2_012.jpg': (358, 227, 445, 256), '/images/cars4_122.jpg': (302, 237, 378, 262), '/images/cars2_056.jpg': (403, 196, 489, 223), '/images/cars045.jpg': (280, 267, 352, 296), '/images/cars3_008.jpg': (382, 334, 465, 363), '/images/cars4_123.jpg': (244, 209, 325, 239), '/images/cars2_051.jpg': (315, 202, 395, 229), '/images/cars4_088.jpg': (276, 236, 359, 266), '/images/cars058.jpg': (301, 285, 373, 307), '/images/cars2_008.jpg': (380, 359, 470, 384), '/images/cars2_002.jpg': (305, 212, 388, 237), '/images/cars2_016.jpg': (381, 356, 464, 378), '/images/cars4_031.jpg': (312, 335, 388, 360), '/images/cars057.jpg': (240, 198, 310, 220), '/images/cars4_034.jpg': (236, 228, 320, 256), '/images/cars051.jpg': (211, 214, 286, 244), '/images/cars2_046.jpg': (405, 206, 474, 229), '/images/cars4_120.jpg': (246, 264, 302, 289), '/images/cars2_064.jpg': (332, 215, 401, 238), '/images/cars3_001.jpg': (373, 279, 440, 301), '/images/cars4_042.jpg': (338, 231, 411, 258), '/images/cars2_029.jpg': (338, 219, 398, 236), '/images/cars4_072.jpg': (202, 237, 279, 266), '/images/cars4_041.jpg': (201, 178, 296, 211), '/images/cars4_011.jpg': (336, 217, 397, 241), '/images/cars4_036.jpg': (290, 282, 365, 312), '/images/cars2_013.jpg': (255, 198, 350, 226), '/images/cars3_015.jpg': (359, 237, 446, 268), '/images/cars4_104.jpg': (224, 194, 316, 226), '/images/cars069.jpg': (323, 234, 387, 256), '/images/cars2_015.jpg': (401, 223, 486, 251), '/images/cars4_017.jpg': (180, 316, 256, 347), '/images/cars4_103.jpg': (82, 263, 171, 290), '/images/cars2_004.jpg': (338, 204, 424, 231), '/images/cars2_003.jpg': (289, 230, 372, 254), '/images/cars2_027.jpg': (274, 284, 348, 311), '/images/cars4_089.jpg': (356, 228, 435, 254), '/images/cars4_077.jpg': (230, 246, 314, 273), '/images/cars4_112.jpg': (241, 221, 320, 249), '/images/cars4_119.jpg': (262, 216, 349, 244), '/images/cars4_063.jpg': (226, 235, 309, 261), '/images/cars2_069.jpg': (371, 193, 451, 224), '/images/cars2_033.jpg': (369, 233, 459, 265), '/images/cars4_035.jpg': (221, 188, 291, 212), '/images/cars2_026.jpg': (212, 252, 289, 278), '/images/cars2_074.jpg': (348, 365, 430, 393), '/images/cars4_045.jpg': (247, 258, 317, 281), '/images/cars2_006.jpg': (435, 350, 518, 376), '/images/cars2_019.jpg': (461, 408, 568, 439), '/images/cars2_038.jpg': (371, 220, 439, 250), '/images/cars2_072.jpg': (340, 220, 411, 241), '/images/cars2_011.jpg': (316, 294, 408, 328), '/images/cars3_003.jpg': (235, 284, 302, 310), '/images/cars3_014.jpg': (379, 355, 484, 383), '/images/cars4_130.jpg': (324, 237, 370, 255), '/images/cars2_028.jpg': (342, 245, 416, 271), '/images/cars4_057.jpg': (179, 228, 259, 260), '/images/cars031.jpg': (202, 222, 287, 252), '/images/cars4_064.jpg': (248, 361, 348, 391), '/images/cars2_067.jpg': (374, 274, 460, 300), '/images/cars2_037.jpg': (369, 183, 440, 209), '/images/cars3_023.jpg': (274, 347, 360, 379), '/images/cars2_009.jpg': (330, 226, 404, 252), '/images/cars2_024.jpg': (409, 249, 494, 280), '/images/cars4_003.jpg': (302, 267, 368, 288), '/images/cars4_009.jpg': (239, 223, 306, 249), '/images/cars2_036.jpg': (224, 285, 319, 313), '/images/cars055.jpg': (199, 285, 280, 309), '/images/cars2_059.jpg': (376, 318, 465, 346), '/images/cars2_055.jpg': (448, 332, 531, 363), '/images/cars4_111.jpg': (277, 272, 360, 304), '/images/cars067.jpg': (298, 220, 367, 243), '/images/cars2_039.jpg': (364, 286, 434, 308), '/images/cars4_094.jpg': (212, 283, 283, 310), '/images/cars3_022.jpg': (303, 348, 393, 379), '/images/cars2_053.jpg': (371, 210, 451, 234), '/images/cars2_062.jpg': (324, 230, 415, 257), '/images/cars4_024.jpg': (218, 292, 285, 320), '/images/cars4_082.jpg': (221, 325, 309, 350), '/images/cars3_005.jpg': (358, 206, 426, 232), '/images/cars2_054.jpg': (283, 227, 372, 252), '/images/cars2_063.jpg': (414, 299, 476, 318), '/images/cars2_057.jpg': (396, 230, 491, 263), '/images/cars2_065.jpg': (298, 255, 379, 279), '/images/cars4_100.jpg': (196, 230, 269, 253), '/images/cars039.jpg': (268, 249, 355, 277), '/images/cars4_093.jpg': (235, 301, 319, 332), '/images/cars3_030.jpg': (361, 306, 426, 327), '/images/cars3_029.jpg': (335, 251, 423, 278), '/images/cars028.jpg': (206, 246, 283, 274), '/images/cars2_023.jpg': (391, 238, 477, 268), '/images/cars4_029.jpg': (251, 243, 331, 270), '/images/cars053.jpg': (239, 203, 315, 229), '/images/cars4_098.jpg': (198, 233, 269, 256), '/images/cars2_060.jpg': (409, 304, 498, 330), '/images/cars2_050.jpg': (334, 214, 418, 241), '/images/cars4_059.jpg': (223, 235, 300, 269), '/images/cars2_022.jpg': (327, 355, 415, 382), '/images/cars2_058.jpg': (379, 254, 465, 289), '/images/cars4_032.jpg': (252, 268, 321, 291)}\n",
      "Amount of Train Data: 196\n",
      "Test Data: {'/images/cars4_046.jpg': (241, 288, 315, 318), '/images/cars4_086.jpg': (348, 201, 433, 227), '/images/cars3_006.jpg': (294, 231, 369, 258), '/images/cars4_087.jpg': (284, 242, 386, 272), '/images/cars4_006.jpg': (297, 408, 409, 444), '/images/cars2_070.jpg': (316, 204, 388, 223), '/images/cars068.jpg': (305, 308, 377, 332), '/images/cars3_025.jpg': (98, 424, 191, 451), '/images/cars4_101.jpg': (170, 246, 250, 273), '/images/cars029.jpg': (117, 267, 196, 296), '/images/cars2_040.jpg': (339, 207, 419, 229), '/images/cars4_013.jpg': (276, 195, 340, 218), '/images/cars4_022.jpg': (98, 332, 170, 358), '/images/cars4_012.jpg': (264, 229, 341, 256), '/images/cars033.jpg': (229, 226, 315, 255), '/images/cars4_067.jpg': (240, 200, 317, 225), '/images/cars4_025.jpg': (249, 324, 318, 350), '/images/cars3_016.jpg': (322, 301, 399, 324), '/images/cars2_048.jpg': (366, 196, 438, 220), '/images/cars042.jpg': (257, 191, 334, 218), '/images/cars4_018.jpg': (254, 256, 325, 283), '/images/cars2_001.jpg': (404, 295, 478, 318), '/images/cars4_075.jpg': (290, 243, 370, 273), '/images/cars3_012.jpg': (308, 230, 379, 258), '/images/cars2_047.jpg': (408, 208, 482, 234), '/images/cars4_106.jpg': (198, 230, 292, 259), '/images/cars064.jpg': (332, 237, 397, 259), '/images/cars062.jpg': (195, 133, 264, 154), '/images/cars4_047.jpg': (296, 292, 367, 316), '/images/cars4_071.jpg': (390, 242, 486, 269), '/images/cars2_018.jpg': (363, 237, 451, 266), '/images/cars4_102.jpg': (252, 199, 331, 227), '/images/cars4_084.jpg': (159, 212, 237, 237), '/images/cars3_028.jpg': (369, 220, 459, 252), '/images/cars2_020.jpg': (347, 397, 455, 430), '/images/cars2_071.jpg': (217, 192, 291, 219), '/images/cars3_002.jpg': (338, 356, 408, 379), '/images/cars4_078.jpg': (239, 246, 317, 270), '/images/cars3_018.jpg': (369, 277, 445, 303), '/images/cars4_118.jpg': (263, 244, 314, 260), '/images/cars4_016.jpg': (321, 221, 401, 256), '/images/cars2_031.jpg': (331, 315, 406, 343), '/images/cars4_058.jpg': (193, 232, 267, 258), '/images/cars030.jpg': (166, 301, 253, 334), '/images/cars4_079.jpg': (311, 304, 381, 327), '/images/cars3_004.jpg': (290, 233, 357, 257), '/images/cars4_066.jpg': (281, 212, 355, 238), '/images/cars2_041.jpg': (439, 192, 521, 222), '/images/cars4_004.jpg': (298, 241, 377, 266), '/images/cars4_023.jpg': (273, 265, 356, 296)}\n",
      "Amount of Test Data: 50\n",
      "[STATUS] Original data loaded successfully.\n"
     ]
    }
   ],
   "source": [
    "# initialize path constants\n",
    "LP_LOC_IMG_DATA_DIR_PATH = sys_path + \"/lp_loc_img_data\"              # path to original dataset directory\n",
    "TRAIN_DATA_FILE_PATH = LP_LOC_IMG_DATA_DIR_PATH + \"/train_data.txt\"   # path to train data file\n",
    "TEST_DATA_FILE_PATH = LP_LOC_IMG_DATA_DIR_PATH + \"/test_data.txt\"     # path to test data file\n",
    "\n",
    "# load train and test datasets\n",
    "train_data_file = open(TRAIN_DATA_FILE_PATH, \"r\")  # open train data file\n",
    "test_data_file = open(TEST_DATA_FILE_PATH, \"r\")    # open test data file\n",
    "\n",
    "# separate train data into file names and labels lists\n",
    "train_data_fps = []                                                         # initialize list for train data image file paths\n",
    "train_data_lbls = []                                                        # initialize list for train data labels\n",
    "for idx, line in enumerate(train_data_file):                                # for each line in the train data file\n",
    "    if not idx % 2:                                                             # if line index is even\n",
    "        train_data_fps.append(line.strip()[1:])                                     # append image file name to train data image file names list\n",
    "    else:                                                                       # else\n",
    "        train_data_lbls.append(tuple(map(int, line.strip().split(\",\"))))            # append label to train data label list as a tuple of integers\n",
    "\n",
    "# organize train data into file names:labels dictionary\n",
    "train_data = {}                                                             # initialize dictionary to store names:labels key:value pairs\n",
    "for idx in range(len(train_data_fps)):                                      # for each train image\n",
    "    train_data[train_data_fps[idx]] = train_data_lbls[idx]                      # insert file name-labels key-value pair\n",
    "\n",
    "# separate test data into file names and labels lists\n",
    "test_data_fps = []                                                          # initialize list for test data image file paths\n",
    "test_data_lbls = []                                                         # initialize list for test data labels\n",
    "for idx, line in enumerate(test_data_file):                                 # for each line in the test data file\n",
    "    if not idx % 2:                                                             # if line index is even\n",
    "        test_data_fps.append(line.strip()[1:])                                      # append image file name to test data image file names list\n",
    "    else:                                                                       # else\n",
    "        test_data_lbls.append(tuple(map(int, line.strip().split(\",\"))))             # append label to test data label list as a tuple of integers\n",
    "\n",
    "# organize test data into file names:labels dictionary\n",
    "test_data = {}                                                              # initialize dictionary to store names:labels key:value pairs\n",
    "for idx in range(len(test_data_fps)):                                       # for each test image\n",
    "    test_data[test_data_fps[idx]] = test_data_lbls[idx]                         # insert file name-labels key-value pair\n",
    "\n",
    "print(\"Train Data: {}\".format(train_data))\n",
    "print(\"Amount of Train Data: {}\".format(len(train_data)))\n",
    "print(\"Test Data: {}\".format(test_data))\n",
    "print(\"Amount of Test Data: {}\".format(len(test_data)))\n",
    "print(\"[STATUS] Original data loaded successfully.\")"
   ]
  },
  {
   "cell_type": "code",
   "execution_count": null,
   "metadata": {
    "colab": {
     "base_uri": "https://localhost:8080/"
    },
    "executionInfo": {
     "elapsed": 135,
     "status": "ok",
     "timestamp": 1648749074198,
     "user": {
      "displayName": "David Peterson",
      "userId": "16473186079830766499"
     },
     "user_tz": 240
    },
    "id": "Rkcz8-ahGmKQ",
    "outputId": "cf00cff9-0add-414f-a806-c9aea94323cc"
   },
   "outputs": [
    {
     "name": "stdout",
     "output_type": "stream",
     "text": [
      "[STATUS] detection_train.txt created successfully.\n",
      "[STATUS] detection_test.txt created successfully.\n"
     ]
    }
   ],
   "source": [
    "# initialize path constants\n",
    "DETECTION_DATA_DIR_PATH = sys_path + \"/detection_data\"  # path to modified dataset directory\n",
    "\n",
    "# create detection_train.txt - contains paths for images in train data\n",
    "detection_train_file = open(DETECTION_DATA_DIR_PATH + \"/detection_train.txt\", \"w+\")  # open detection_train.txt in write mode - create if does not exist\n",
    "for fp in train_data.keys():                                                         # for each file path in train data\n",
    "    detection_train_file.write(DETECTION_DATA_DIR_PATH + fp + \"\\n\")                     # write the file path to detection_train.txt on a new line\n",
    "detection_train_file.close()                                                         # close detection_train.txt\n",
    "\n",
    "print(\"[STATUS] detection_train.txt created successfully.\")\n",
    "\n",
    "# create detection_test.txt - contains paths for images in test data\n",
    "detection_test_file = open(DETECTION_DATA_DIR_PATH + \"/detection_test.txt\", \"w+\")  # open detection_test.txt in write mode - create if does not exist\n",
    "for fp in test_data.keys():                                                        # for each file path in test data\n",
    "    detection_test_file.write(DETECTION_DATA_DIR_PATH + fp + \"\\n\")                    # write the file path to detection_test.txt on a new line\n",
    "detection_test_file.close()                                                        # close detection_test.txt\n",
    "\n",
    "print(\"[STATUS] detection_test.txt created successfully.\")"
   ]
  },
  {
   "cell_type": "code",
   "execution_count": null,
   "metadata": {
    "colab": {
     "base_uri": "https://localhost:8080/"
    },
    "executionInfo": {
     "elapsed": 4116,
     "status": "ok",
     "timestamp": 1647477618797,
     "user": {
      "displayName": "David Peterson",
      "photoUrl": "https://lh3.googleusercontent.com/a-/AOh14Gh5Ydm7mmqLMzn05Ur0j6UrbkoodWVnyUb7Wy2S=s64",
      "userId": "16473186079830766499"
     },
     "user_tz": 240
    },
    "id": "7JyD-PILpaF6",
    "outputId": "c74dd2ed-c590-4a19-8547-3811f8b5cbfd"
   },
   "outputs": [
    {
     "name": "stdout",
     "output_type": "stream",
     "text": [
      "Requirement already satisfied: Pillow in /usr/local/lib/python3.7/dist-packages (7.1.2)\n"
     ]
    }
   ],
   "source": [
    "# install python imaging library - Pillow\n",
    "!pip install Pillow"
   ]
  },
  {
   "cell_type": "code",
   "execution_count": null,
   "metadata": {
    "colab": {
     "base_uri": "https://localhost:8080/"
    },
    "executionInfo": {
     "elapsed": 2,
     "status": "ok",
     "timestamp": 1647477620269,
     "user": {
      "displayName": "David Peterson",
      "photoUrl": "https://lh3.googleusercontent.com/a-/AOh14Gh5Ydm7mmqLMzn05Ur0j6UrbkoodWVnyUb7Wy2S=s64",
      "userId": "16473186079830766499"
     },
     "user_tz": 240
    },
    "id": "NS4uuxN0mYzn",
    "outputId": "d8b6deaa-c0da-4e57-b253-adea753e1846"
   },
   "outputs": [
    {
     "name": "stdout",
     "output_type": "stream",
     "text": [
      "Normalize function compiled successfully.\n"
     ]
    }
   ],
   "source": [
    "# import Pillow - access image size\n",
    "from PIL import Image\n",
    "\n",
    "# function to normalize center coordinates (x, y), width, and height of the \n",
    "# ground-truth bounding box (gtbb) using the width and height of the given image\n",
    "# param img - path to image\n",
    "# param tlx - gtbb top-left x-coordinate\n",
    "# param tly - gtbb top-left y-coordinate\n",
    "# param brx - gtbb bottom-right x-coordinate\n",
    "# param bry - gtbb bottom-right y-coordinate\n",
    "def normalize(img, tlx, tly, brx, bry):\n",
    "    curr_img = Image.open(DETECTION_DATA_DIR_PATH + img)   # open current image using Pillow library\n",
    "    curr_img_w, curr_img_h = curr_img.size                 # access current image size\n",
    "\n",
    "    gtbb_cx = (tlx + brx) / 2                              # gtbb center-x\n",
    "    gtbb_cy = (tly + bry) / 2                              # gtbb center-y\n",
    "    gtbb_w = brx - tlx                                     # gtbb width\n",
    "    gtbb_h = bry - tly                                     # gtbb height\n",
    "\n",
    "    ncx = float(gtbb_cx / curr_img_w)                      # normalize gtbb center x-coordinate\n",
    "    ncy = float(gtbb_cy / curr_img_h)                      # normalize gtbb center y-coordinate \n",
    "    nw = float(gtbb_w / curr_img_w)                        # normalize gtbb width\n",
    "    nh = float(gtbb_h / curr_img_h)                        # normalize gtbb height\n",
    "    return ncx, ncy, nw, nh                                # return normalized center coordinates, width, and height\n",
    "\n",
    "print(\"[STATUS] Normalize function compiled successfully.\")"
   ]
  },
  {
   "cell_type": "code",
   "execution_count": null,
   "metadata": {
    "colab": {
     "base_uri": "https://localhost:8080/"
    },
    "executionInfo": {
     "elapsed": 2301,
     "status": "ok",
     "timestamp": 1647482540307,
     "user": {
      "displayName": "David Peterson",
      "photoUrl": "https://lh3.googleusercontent.com/a-/AOh14Gh5Ydm7mmqLMzn05Ur0j6UrbkoodWVnyUb7Wy2S=s64",
      "userId": "16473186079830766499"
     },
     "user_tz": 240
    },
    "id": "dWhWQ2x-pJrJ",
    "outputId": "105c6aae-826a-4c09-b79f-57ddaac49fe5"
   },
   "outputs": [
    {
     "name": "stdout",
     "output_type": "stream",
     "text": [
      "Label files for all data created successfully.\n"
     ]
    }
   ],
   "source": [
    "# import re (built-in) - multiple delimiters\n",
    "import re\n",
    "\n",
    "# initialize path constants\n",
    "DETECTION_LABELS_DIR_PATH = DETECTION_DATA_DIR_PATH + \"/labels\"   # path to labels directory\n",
    "\n",
    "# combine original train and test data image labels and file paths\n",
    "all_data = {}\n",
    "all_data.update(train_data)\n",
    "all_data.update(test_data)\n",
    "\n",
    "# create modified train and test data labels\n",
    "for fp, label in all_data.items():                                               # for each image\n",
    "    class_id = 0                                                                     # only 1 class => all labels have Class ID 0\n",
    "    ncx, ncy, nw, nh = normalize(fp, label[0], label[1], label[2], label[3])         # normalize ground truth bounding box center-coordinates, width, and height labels\n",
    "    fn = re.split(\"/|\\.\", fp)[2]                                                     # split image file path by '/' and '.' delimiters to obtain file name\n",
    "    label_file = open(DETECTION_LABELS_DIR_PATH + \"/\" + fn + \".txt\", \"w+\")           # open image label text file in write mode - create if does not exist\n",
    "    label_vals = (class_id, ncx, ncy, nw, nh)                                        # create list of final label values\n",
    "    for val in label_vals:                                                           # for each value in the final label\n",
    "        label_file.write(str(val) + \" \")                                                # write the final label values to the image label text file\n",
    "    label_file.close()                                                               # close image label text file\n",
    "\n",
    "print(\"[STATUS] Label files for all data created successfully.\")"
   ]
  },
  {
   "cell_type": "markdown",
   "metadata": {
    "id": "SpW8H8DpSqpg"
   },
   "source": [
    "### **Darknet Loading and Building**###\n",
    "\n",
    "1.   Clone Darknet (https://github.com/pjreddie/darknet)\n",
    "2.   Build Darknet\n",
    "3.   Modify Darknet files for custom fine-tuning and build again\n",
    "4.   Convert files to Unix format\n",
    "\n",
    "**Darknet File Modification Details:**  \n",
    "- Change rate of model file saving to be more often\n",
    "  - After first 1000 iterations (saving model every 100 iterations), modify to save model every 1000 iterations (changed from 10000)\n",
    "\n",
    "- Import starting weights from a pre-trained model (https://pjreddie.com/media/files/darknet53.conv.74)\n",
    "  - Fine tune model from pre-trained weights (opposed to random weights) to decrease learning time\n",
    "\n",
    "- Set paths to relevant files for training (yolov3.data)\n",
    "  - detection_train.txt\n",
    "  - detection_test.txt\n",
    "  - classes.names\n",
    "  - weights\n",
    "\n",
    "- Update YOLOv3 Configuration parameters\n",
    "  - Batch size, learning rate annealing, steps, number of convolutional filters, etc.\n",
    "\n",
    "\n"
   ]
  },
  {
   "cell_type": "code",
   "execution_count": null,
   "metadata": {
    "colab": {
     "base_uri": "https://localhost:8080/"
    },
    "executionInfo": {
     "elapsed": 3314,
     "status": "ok",
     "timestamp": 1647472098012,
     "user": {
      "displayName": "David Peterson",
      "photoUrl": "https://lh3.googleusercontent.com/a-/AOh14Gh5Ydm7mmqLMzn05Ur0j6UrbkoodWVnyUb7Wy2S=s64",
      "userId": "16473186079830766499"
     },
     "user_tz": 240
    },
    "id": "huw6O1n3TJaw",
    "outputId": "fcd9b49a-a488-4a59-a140-ee80838e9acd"
   },
   "outputs": [
    {
     "name": "stdout",
     "output_type": "stream",
     "text": [
      "/content/drive/MyDrive/ECE4424/Project/detection/darknet\n",
      "make: Nothing to be done for 'all'.\n"
     ]
    }
   ],
   "source": [
    "# ensure working directory is detection directory\n",
    "# %cd /content/drive/MyDrive/ECE4424/Project/detection/\n",
    "\n",
    "# # clone Darknet \n",
    "# !git clone https://github.com/pjreddie/darknet\n",
    "\n",
    "# # change working directory to cloned Darknet directory in detection directory\n",
    "# %cd /content/drive/MyDrive/ECE4424/Project/detection/darknet\n",
    "# !ls\n",
    "\n",
    "# # download pre-trained model\n",
    "# !wget https://pjreddie.com/media/files/darknet53.conv.74 -O /content/drive/MyDrive/ECE4424/Project/detection/darknet/darknet53.conv.74\n",
    "\n",
    "# build Darknet\n",
    "%cd /content/drive/MyDrive/ECE4424/Project/detection/darknet\n",
    "!make\n",
    "!chmod +x ./darknet\n",
    "\n",
    "# perform modifications to Darknet files for project usage"
   ]
  },
  {
   "cell_type": "code",
   "execution_count": null,
   "metadata": {
    "colab": {
     "base_uri": "https://localhost:8080/"
    },
    "executionInfo": {
     "elapsed": 5096,
     "status": "ok",
     "timestamp": 1647472104346,
     "user": {
      "displayName": "David Peterson",
      "photoUrl": "https://lh3.googleusercontent.com/a-/AOh14Gh5Ydm7mmqLMzn05Ur0j6UrbkoodWVnyUb7Wy2S=s64",
      "userId": "16473186079830766499"
     },
     "user_tz": 240
    },
    "id": "JBzOlx-kUUUB",
    "outputId": "adca6023-a2a9-4246-c788-7db572f2b361"
   },
   "outputs": [
    {
     "name": "stdout",
     "output_type": "stream",
     "text": [
      "Reading package lists... Done\n",
      "Building dependency tree       \n",
      "Reading state information... Done\n",
      "The following NEW packages will be installed:\n",
      "  dos2unix\n",
      "0 upgraded, 1 newly installed, 0 to remove and 39 not upgraded.\n",
      "Need to get 351 kB of archives.\n",
      "After this operation, 1,267 kB of additional disk space will be used.\n",
      "Get:1 http://archive.ubuntu.com/ubuntu bionic/universe amd64 dos2unix amd64 7.3.4-3 [351 kB]\n",
      "Fetched 351 kB in 1s (463 kB/s)\n",
      "debconf: unable to initialize frontend: Dialog\n",
      "debconf: (No usable dialog-like program is installed, so the dialog based frontend cannot be used. at /usr/share/perl5/Debconf/FrontEnd/Dialog.pm line 76, <> line 1.)\n",
      "debconf: falling back to frontend: Readline\n",
      "debconf: unable to initialize frontend: Readline\n",
      "debconf: (This frontend requires a controlling tty.)\n",
      "debconf: falling back to frontend: Teletype\n",
      "dpkg-preconfigure: unable to re-open stdin: \n",
      "Selecting previously unselected package dos2unix.\n",
      "(Reading database ... 155335 files and directories currently installed.)\n",
      "Preparing to unpack .../dos2unix_7.3.4-3_amd64.deb ...\n",
      "Unpacking dos2unix (7.3.4-3) ...\n",
      "Setting up dos2unix (7.3.4-3) ...\n",
      "Processing triggers for man-db (2.8.3-2ubuntu0.1) ...\n"
     ]
    }
   ],
   "source": [
    "# install unix format conversion tool - dos2unix\n",
    "!sudo apt install dos2unix"
   ]
  },
  {
   "cell_type": "code",
   "execution_count": null,
   "metadata": {
    "colab": {
     "base_uri": "https://localhost:8080/"
    },
    "executionInfo": {
     "elapsed": 2413,
     "status": "ok",
     "timestamp": 1647472108321,
     "user": {
      "displayName": "David Peterson",
      "photoUrl": "https://lh3.googleusercontent.com/a-/AOh14Gh5Ydm7mmqLMzn05Ur0j6UrbkoodWVnyUb7Wy2S=s64",
      "userId": "16473186079830766499"
     },
     "user_tz": 240
    },
    "id": "4koDm39TUfu9",
    "outputId": "22a2a1a3-9395-48f0-c5c1-d878cc475712"
   },
   "outputs": [
    {
     "name": "stdout",
     "output_type": "stream",
     "text": [
      "dos2unix: converting file /content/drive/MyDrive/ECE4424/Project/detection/detection_data/detection_train.txt to Unix format...\n",
      "dos2unix: converting file /content/drive/MyDrive/ECE4424/Project/detection/detection_data/detection_test.txt to Unix format...\n",
      "dos2unix: converting file /content/drive/MyDrive/ECE4424/Project/detection/classes.names to Unix format...\n",
      "dos2unix: converting file /content/drive/MyDrive/ECE4424/Project/detection/yolov3.data to Unix format...\n",
      "dos2unix: converting file /content/drive/MyDrive/ECE4424/Project/detection/darknet-yolov3-train-custom.cfg to Unix format...\n",
      "dos2unix: converting file /content/drive/MyDrive/ECE4424/Project/detection/darknet-yolov3-test-custom.cfg to Unix format...\n"
     ]
    }
   ],
   "source": [
    "# re-format relevant files for training\n",
    "!dos2unix /content/drive/MyDrive/ECE4424/Project/detection/detection_data/detection_train.txt\n",
    "!dos2unix /content/drive/MyDrive/ECE4424/Project/detection/detection_data/detection_test.txt\n",
    "!dos2unix /content/drive/MyDrive/ECE4424/Project/detection/classes.names\n",
    "!dos2unix /content/drive/MyDrive/ECE4424/Project/detection/yolov3.data\n",
    "!dos2unix /content/drive/MyDrive/ECE4424/Project/detection/darknet-yolov3-train-custom.cfg\n",
    "!dos2unix /content/drive/MyDrive/ECE4424/Project/detection/darknet-yolov3-test-custom.cfg"
   ]
  },
  {
   "cell_type": "markdown",
   "metadata": {
    "id": "DOp6mcAANr5A"
   },
   "source": [
    "### **YOLOv3 - Train the Model**###\n",
    "\n",
    "1.   Ensure GPU is enabled and connected\n",
    "2.   Utilize Darknet to train\n",
    "3.   Analyze training loss after completion\n",
    "\n",
    "Citation for Loss Visualization Code: https://learnopencv.com"
   ]
  },
  {
   "cell_type": "code",
   "execution_count": null,
   "metadata": {
    "colab": {
     "base_uri": "https://localhost:8080/"
    },
    "executionInfo": {
     "elapsed": 287,
     "status": "ok",
     "timestamp": 1647472110963,
     "user": {
      "displayName": "David Peterson",
      "photoUrl": "https://lh3.googleusercontent.com/a-/AOh14Gh5Ydm7mmqLMzn05Ur0j6UrbkoodWVnyUb7Wy2S=s64",
      "userId": "16473186079830766499"
     },
     "user_tz": 240
    },
    "id": "l2klDo7-UK03",
    "outputId": "700bdf61-a5f1-421a-8980-7eae25f2a6c2"
   },
   "outputs": [
    {
     "name": "stdout",
     "output_type": "stream",
     "text": [
      "Wed Mar 16 23:08:29 2022       \n",
      "+-----------------------------------------------------------------------------+\n",
      "| NVIDIA-SMI 460.32.03    Driver Version: 460.32.03    CUDA Version: 11.2     |\n",
      "|-------------------------------+----------------------+----------------------+\n",
      "| GPU  Name        Persistence-M| Bus-Id        Disp.A | Volatile Uncorr. ECC |\n",
      "| Fan  Temp  Perf  Pwr:Usage/Cap|         Memory-Usage | GPU-Util  Compute M. |\n",
      "|                               |                      |               MIG M. |\n",
      "|===============================+======================+======================|\n",
      "|   0  Tesla K80           Off  | 00000000:00:04.0 Off |                    0 |\n",
      "| N/A   36C    P8    26W / 149W |      0MiB / 11441MiB |      0%      Default |\n",
      "|                               |                      |                  N/A |\n",
      "+-------------------------------+----------------------+----------------------+\n",
      "                                                                               \n",
      "+-----------------------------------------------------------------------------+\n",
      "| Processes:                                                                  |\n",
      "|  GPU   GI   CI        PID   Type   Process name                  GPU Memory |\n",
      "|        ID   ID                                                   Usage      |\n",
      "|=============================================================================|\n",
      "|  No running processes found                                                 |\n",
      "+-----------------------------------------------------------------------------+\n"
     ]
    }
   ],
   "source": [
    "# ensure GPU runtime is connnected\n",
    "!nvidia-smi"
   ]
  },
  {
   "cell_type": "code",
   "execution_count": null,
   "metadata": {
    "id": "HIbygYC_Jzza"
   },
   "outputs": [],
   "source": [
    "# train the model\n",
    "# change working directory to cloned Darknet directory in detection directory\n",
    "%cd /content/drive/MyDrive/ECE4424/Project/detection/darknet\n",
    "!ls\n",
    "!chmod +x ./darknet\n",
    "\n",
    "!./darknet detector train \\\n",
    "                          /content/drive/MyDrive/ECE4424/Project/detection/yolov3.data \\\n",
    "                          /content/drive/MyDrive/ECE4424/Project/detection/darknet-yolov3-train-custom.cfg \\\n",
    "                          ./darknet53.conv.74 \\\n",
    "                          | tee /content/drive/MyDrive/ECE4424/Project/detection/train.log"
   ]
  },
  {
   "cell_type": "code",
   "execution_count": null,
   "metadata": {
    "colab": {
     "base_uri": "https://localhost:8080/",
     "height": 314
    },
    "executionInfo": {
     "elapsed": 11282,
     "status": "ok",
     "timestamp": 1647526303568,
     "user": {
      "displayName": "David Peterson",
      "photoUrl": "https://lh3.googleusercontent.com/a-/AOh14Gh5Ydm7mmqLMzn05Ur0j6UrbkoodWVnyUb7Wy2S=s64",
      "userId": "16473186079830766499"
     },
     "user_tz": 240
    },
    "id": "ggRbUHQlMD5W",
    "outputId": "6eec2518-52d1-4139-ae95-c931d2bf3d41"
   },
   "outputs": [
    {
     "name": "stdout",
     "output_type": "stream",
     "text": [
      "Done! Plot saved as training_loss_plot.png\n"
     ]
    },
    {
     "data": {
      "image/png": "[encoded data removed]",
      "text/plain": [
       "<Figure size 432x288 with 1 Axes>"
      ]
     },
     "metadata": {
      "needs_background": "light"
     },
     "output_type": "display_data"
    }
   ],
   "source": [
    "# visualize training loss - image\n",
    "import matplotlib.pyplot as plt\n",
    "\n",
    "TRAIN_LOG_PATH = sys_path + \"/train.log\"                      # path to train log\n",
    "TRAIN_LOSS_IMG_PATH = sys_path + \"/training_loss_plot.png\"    # path to save training loss image\n",
    "\n",
    "lines = []\n",
    "for line in open(TRAIN_LOG_PATH):\n",
    "    if \"avg\" in line:\n",
    "        lines.append(line)\n",
    "\n",
    "iterations = []\n",
    "avg_loss = []\n",
    "\n",
    "for i in range(len(lines)):\n",
    "    lineParts = lines[i].split(',')\n",
    "    iterations.append(int(lineParts[0].split(':')[0]))\n",
    "    avg_loss.append(float(lineParts[1].split()[0]))\n",
    "\n",
    "fig = plt.figure()\n",
    "for i in range(0, len(lines)):\n",
    "    plt.plot(iterations[i:i+2], avg_loss[i:i+2], 'r.-')\n",
    "\n",
    "plt.xlabel('Batch Number')\n",
    "plt.ylabel('Avg Loss')\n",
    "plt.title('YOLOv3 License Plate Object Detection Loss')\n",
    "fig.savefig(TRAIN_LOSS_IMG_PATH, dpi=1000)\n",
    "\n",
    "print(\"[STATUS] Plot saved as training_loss_plot.png\")"
   ]
  },
  {
   "cell_type": "code",
   "execution_count": null,
   "metadata": {
    "id": "P-_aj0t0R1H4"
   },
   "outputs": [],
   "source": [
    "# visualize training loss - text\n",
    "!grep \"avg\" /content/drive/MyDrive/ECE4424/Project/detection/train.log"
   ]
  },
  {
   "cell_type": "markdown",
   "metadata": {
    "id": "n1FlfVl0RHNr"
   },
   "source": [
    "### **YOLOv3 - Test the Model**###"
   ]
  },
  {
   "cell_type": "code",
   "execution_count": null,
   "metadata": {
    "colab": {
     "base_uri": "https://localhost:8080/"
    },
    "executionInfo": {
     "elapsed": 190471,
     "status": "ok",
     "timestamp": 1647483576847,
     "user": {
      "displayName": "David Peterson",
      "photoUrl": "https://lh3.googleusercontent.com/a-/AOh14Gh5Ydm7mmqLMzn05Ur0j6UrbkoodWVnyUb7Wy2S=s64",
      "userId": "16473186079830766499"
     },
     "user_tz": 240
    },
    "id": "rmUBkigtSqZ9",
    "outputId": "f0fc03b8-8c28-48d1-ce2d-744bbba27d38"
   },
   "outputs": [
    {
     "name": "stdout",
     "output_type": "stream",
     "text": [
      "/content/drive/MyDrive/ECE4424/Project/detection/darknet\n",
      "backup\t\t   data\t\t  LICENSE\tLICENSE.mit\t python\n",
      "bad.list\t   examples\t  LICENSE.fuck\tLICENSE.v1\t README.md\n",
      "cfg\t\t   include\t  LICENSE.gen\tMakefile\t results\n",
      "darknet\t\t   libdarknet.a   LICENSE.gpl\tobj\t\t scripts\n",
      "darknet53.conv.74  libdarknet.so  LICENSE.meta\tpredictions.jpg  src\n",
      "layer     filters    size              input                output\n",
      "    0 conv     32  3 x 3 / 1   416 x 416 x   3   ->   416 x 416 x  32  0.299 BFLOPs\n",
      "    1 conv     64  3 x 3 / 2   416 x 416 x  32   ->   208 x 208 x  64  1.595 BFLOPs\n",
      "    2 conv     32  1 x 1 / 1   208 x 208 x  64   ->   208 x 208 x  32  0.177 BFLOPs\n",
      "    3 conv     64  3 x 3 / 1   208 x 208 x  32   ->   208 x 208 x  64  1.595 BFLOPs\n",
      "    4 res    1                 208 x 208 x  64   ->   208 x 208 x  64\n",
      "    5 conv    128  3 x 3 / 2   208 x 208 x  64   ->   104 x 104 x 128  1.595 BFLOPs\n",
      "    6 conv     64  1 x 1 / 1   104 x 104 x 128   ->   104 x 104 x  64  0.177 BFLOPs\n",
      "    7 conv    128  3 x 3 / 1   104 x 104 x  64   ->   104 x 104 x 128  1.595 BFLOPs\n",
      "    8 res    5                 104 x 104 x 128   ->   104 x 104 x 128\n",
      "    9 conv     64  1 x 1 / 1   104 x 104 x 128   ->   104 x 104 x  64  0.177 BFLOPs\n",
      "   10 conv    128  3 x 3 / 1   104 x 104 x  64   ->   104 x 104 x 128  1.595 BFLOPs\n",
      "   11 res    8                 104 x 104 x 128   ->   104 x 104 x 128\n",
      "   12 conv    256  3 x 3 / 2   104 x 104 x 128   ->    52 x  52 x 256  1.595 BFLOPs\n",
      "   13 conv    128  1 x 1 / 1    52 x  52 x 256   ->    52 x  52 x 128  0.177 BFLOPs\n",
      "   14 conv    256  3 x 3 / 1    52 x  52 x 128   ->    52 x  52 x 256  1.595 BFLOPs\n",
      "   15 res   12                  52 x  52 x 256   ->    52 x  52 x 256\n",
      "   16 conv    128  1 x 1 / 1    52 x  52 x 256   ->    52 x  52 x 128  0.177 BFLOPs\n",
      "   17 conv    256  3 x 3 / 1    52 x  52 x 128   ->    52 x  52 x 256  1.595 BFLOPs\n",
      "   18 res   15                  52 x  52 x 256   ->    52 x  52 x 256\n",
      "   19 conv    128  1 x 1 / 1    52 x  52 x 256   ->    52 x  52 x 128  0.177 BFLOPs\n",
      "   20 conv    256  3 x 3 / 1    52 x  52 x 128   ->    52 x  52 x 256  1.595 BFLOPs\n",
      "   21 res   18                  52 x  52 x 256   ->    52 x  52 x 256\n",
      "   22 conv    128  1 x 1 / 1    52 x  52 x 256   ->    52 x  52 x 128  0.177 BFLOPs\n",
      "   23 conv    256  3 x 3 / 1    52 x  52 x 128   ->    52 x  52 x 256  1.595 BFLOPs\n",
      "   24 res   21                  52 x  52 x 256   ->    52 x  52 x 256\n",
      "   25 conv    128  1 x 1 / 1    52 x  52 x 256   ->    52 x  52 x 128  0.177 BFLOPs\n",
      "   26 conv    256  3 x 3 / 1    52 x  52 x 128   ->    52 x  52 x 256  1.595 BFLOPs\n",
      "   27 res   24                  52 x  52 x 256   ->    52 x  52 x 256\n",
      "   28 conv    128  1 x 1 / 1    52 x  52 x 256   ->    52 x  52 x 128  0.177 BFLOPs\n",
      "   29 conv    256  3 x 3 / 1    52 x  52 x 128   ->    52 x  52 x 256  1.595 BFLOPs\n",
      "   30 res   27                  52 x  52 x 256   ->    52 x  52 x 256\n",
      "   31 conv    128  1 x 1 / 1    52 x  52 x 256   ->    52 x  52 x 128  0.177 BFLOPs\n",
      "   32 conv    256  3 x 3 / 1    52 x  52 x 128   ->    52 x  52 x 256  1.595 BFLOPs\n",
      "   33 res   30                  52 x  52 x 256   ->    52 x  52 x 256\n",
      "   34 conv    128  1 x 1 / 1    52 x  52 x 256   ->    52 x  52 x 128  0.177 BFLOPs\n",
      "   35 conv    256  3 x 3 / 1    52 x  52 x 128   ->    52 x  52 x 256  1.595 BFLOPs\n",
      "   36 res   33                  52 x  52 x 256   ->    52 x  52 x 256\n",
      "   37 conv    512  3 x 3 / 2    52 x  52 x 256   ->    26 x  26 x 512  1.595 BFLOPs\n",
      "   38 conv    256  1 x 1 / 1    26 x  26 x 512   ->    26 x  26 x 256  0.177 BFLOPs\n",
      "   39 conv    512  3 x 3 / 1    26 x  26 x 256   ->    26 x  26 x 512  1.595 BFLOPs\n",
      "   40 res   37                  26 x  26 x 512   ->    26 x  26 x 512\n",
      "   41 conv    256  1 x 1 / 1    26 x  26 x 512   ->    26 x  26 x 256  0.177 BFLOPs\n",
      "   42 conv    512  3 x 3 / 1    26 x  26 x 256   ->    26 x  26 x 512  1.595 BFLOPs\n",
      "   43 res   40                  26 x  26 x 512   ->    26 x  26 x 512\n",
      "   44 conv    256  1 x 1 / 1    26 x  26 x 512   ->    26 x  26 x 256  0.177 BFLOPs\n",
      "   45 conv    512  3 x 3 / 1    26 x  26 x 256   ->    26 x  26 x 512  1.595 BFLOPs\n",
      "   46 res   43                  26 x  26 x 512   ->    26 x  26 x 512\n",
      "   47 conv    256  1 x 1 / 1    26 x  26 x 512   ->    26 x  26 x 256  0.177 BFLOPs\n",
      "   48 conv    512  3 x 3 / 1    26 x  26 x 256   ->    26 x  26 x 512  1.595 BFLOPs\n",
      "   49 res   46                  26 x  26 x 512   ->    26 x  26 x 512\n",
      "   50 conv    256  1 x 1 / 1    26 x  26 x 512   ->    26 x  26 x 256  0.177 BFLOPs\n",
      "   51 conv    512  3 x 3 / 1    26 x  26 x 256   ->    26 x  26 x 512  1.595 BFLOPs\n",
      "   52 res   49                  26 x  26 x 512   ->    26 x  26 x 512\n",
      "   53 conv    256  1 x 1 / 1    26 x  26 x 512   ->    26 x  26 x 256  0.177 BFLOPs\n",
      "   54 conv    512  3 x 3 / 1    26 x  26 x 256   ->    26 x  26 x 512  1.595 BFLOPs\n",
      "   55 res   52                  26 x  26 x 512   ->    26 x  26 x 512\n",
      "   56 conv    256  1 x 1 / 1    26 x  26 x 512   ->    26 x  26 x 256  0.177 BFLOPs\n",
      "   57 conv    512  3 x 3 / 1    26 x  26 x 256   ->    26 x  26 x 512  1.595 BFLOPs\n",
      "   58 res   55                  26 x  26 x 512   ->    26 x  26 x 512\n",
      "   59 conv    256  1 x 1 / 1    26 x  26 x 512   ->    26 x  26 x 256  0.177 BFLOPs\n",
      "   60 conv    512  3 x 3 / 1    26 x  26 x 256   ->    26 x  26 x 512  1.595 BFLOPs\n",
      "   61 res   58                  26 x  26 x 512   ->    26 x  26 x 512\n",
      "   62 conv   1024  3 x 3 / 2    26 x  26 x 512   ->    13 x  13 x1024  1.595 BFLOPs\n",
      "   63 conv    512  1 x 1 / 1    13 x  13 x1024   ->    13 x  13 x 512  0.177 BFLOPs\n",
      "   64 conv   1024  3 x 3 / 1    13 x  13 x 512   ->    13 x  13 x1024  1.595 BFLOPs\n",
      "   65 res   62                  13 x  13 x1024   ->    13 x  13 x1024\n",
      "   66 conv    512  1 x 1 / 1    13 x  13 x1024   ->    13 x  13 x 512  0.177 BFLOPs\n",
      "   67 conv   1024  3 x 3 / 1    13 x  13 x 512   ->    13 x  13 x1024  1.595 BFLOPs\n",
      "   68 res   65                  13 x  13 x1024   ->    13 x  13 x1024\n",
      "   69 conv    512  1 x 1 / 1    13 x  13 x1024   ->    13 x  13 x 512  0.177 BFLOPs\n",
      "   70 conv   1024  3 x 3 / 1    13 x  13 x 512   ->    13 x  13 x1024  1.595 BFLOPs\n",
      "   71 res   68                  13 x  13 x1024   ->    13 x  13 x1024\n",
      "   72 conv    512  1 x 1 / 1    13 x  13 x1024   ->    13 x  13 x 512  0.177 BFLOPs\n",
      "   73 conv   1024  3 x 3 / 1    13 x  13 x 512   ->    13 x  13 x1024  1.595 BFLOPs\n",
      "   74 res   71                  13 x  13 x1024   ->    13 x  13 x1024\n",
      "   75 conv    512  1 x 1 / 1    13 x  13 x1024   ->    13 x  13 x 512  0.177 BFLOPs\n",
      "   76 conv   1024  3 x 3 / 1    13 x  13 x 512   ->    13 x  13 x1024  1.595 BFLOPs\n",
      "   77 conv    512  1 x 1 / 1    13 x  13 x1024   ->    13 x  13 x 512  0.177 BFLOPs\n",
      "   78 conv   1024  3 x 3 / 1    13 x  13 x 512   ->    13 x  13 x1024  1.595 BFLOPs\n",
      "   79 conv    512  1 x 1 / 1    13 x  13 x1024   ->    13 x  13 x 512  0.177 BFLOPs\n",
      "   80 conv   1024  3 x 3 / 1    13 x  13 x 512   ->    13 x  13 x1024  1.595 BFLOPs\n",
      "   81 conv     18  1 x 1 / 1    13 x  13 x1024   ->    13 x  13 x  18  0.006 BFLOPs\n",
      "   82 yolo\n",
      "   83 route  79\n",
      "   84 conv    256  1 x 1 / 1    13 x  13 x 512   ->    13 x  13 x 256  0.044 BFLOPs\n",
      "   85 upsample            2x    13 x  13 x 256   ->    26 x  26 x 256\n",
      "   86 route  85 61\n",
      "   87 conv    256  1 x 1 / 1    26 x  26 x 768   ->    26 x  26 x 256  0.266 BFLOPs\n",
      "   88 conv    512  3 x 3 / 1    26 x  26 x 256   ->    26 x  26 x 512  1.595 BFLOPs\n",
      "   89 conv    256  1 x 1 / 1    26 x  26 x 512   ->    26 x  26 x 256  0.177 BFLOPs\n",
      "   90 conv    512  3 x 3 / 1    26 x  26 x 256   ->    26 x  26 x 512  1.595 BFLOPs\n",
      "   91 conv    256  1 x 1 / 1    26 x  26 x 512   ->    26 x  26 x 256  0.177 BFLOPs\n",
      "   92 conv    512  3 x 3 / 1    26 x  26 x 256   ->    26 x  26 x 512  1.595 BFLOPs\n",
      "   93 conv     18  1 x 1 / 1    26 x  26 x 512   ->    26 x  26 x  18  0.012 BFLOPs\n",
      "   94 yolo\n",
      "   95 route  91\n",
      "   96 conv    128  1 x 1 / 1    26 x  26 x 256   ->    26 x  26 x 128  0.044 BFLOPs\n",
      "   97 upsample            4x    26 x  26 x 128   ->   104 x 104 x 128\n",
      "   98 route  97 11\n",
      "   99 conv    128  1 x 1 / 1   104 x 104 x 256   ->   104 x 104 x 128  0.709 BFLOPs\n",
      "  100 conv    256  3 x 3 / 1   104 x 104 x 128   ->   104 x 104 x 256  6.380 BFLOPs\n",
      "  101 conv    128  1 x 1 / 1   104 x 104 x 256   ->   104 x 104 x 128  0.709 BFLOPs\n",
      "  102 conv    256  3 x 3 / 1   104 x 104 x 128   ->   104 x 104 x 256  6.380 BFLOPs\n",
      "  103 conv    128  1 x 1 / 1   104 x 104 x 256   ->   104 x 104 x 128  0.709 BFLOPs\n",
      "  104 conv    256  3 x 3 / 1   104 x 104 x 128   ->   104 x 104 x 256  6.380 BFLOPs\n",
      "  105 conv     18  1 x 1 / 1   104 x 104 x 256   ->   104 x 104 x  18  0.100 BFLOPs\n",
      "  106 yolo\n",
      "Loading weights from /content/drive/MyDrive/ECE4424/Project/detection/detection_data/weights/darknet-yolov3-train-custom_final.weights...Done!\n",
      "/content/drive/MyDrive/ECE4424/Project/detection/detection_data/images/cars001.jpg: Predicted in 0.133294 seconds.\n",
      "license_plate: 100%\n",
      "Unable to init server: Could not connect: Connection refused\n",
      "\n",
      "(predictions:282): Gtk-\u001b[1;33mWARNING\u001b[0m **: \u001b[34m02:19:35.556\u001b[0m: cannot open display: \n"
     ]
    }
   ],
   "source": [
    "# test the model\n",
    "%cd /content/drive/MyDrive/ECE4424/Project/detection/darknet\n",
    "!ls\n",
    "!chmod +x ./darknet\n",
    "\n",
    "!./darknet detector test \\\n",
    "                         /content/drive/MyDrive/ECE4424/Project/detection/yolov3.data \\\n",
    "                         /content/drive/MyDrive/ECE4424/Project/detection/darknet-yolov3-test-custom.cfg \\\n",
    "                         /content/drive/MyDrive/ECE4424/Project/detection/detection_data/weights/darknet-yolov3-train-custom_final.weights \\\n",
    "                         /content/drive/MyDrive/ECE4424/Project/detection/detection_data/images/cars001.jpg"
   ]
  }
 ],
 "metadata": {
  "accelerator": "GPU",
  "colab": {
   "collapsed_sections": [],
   "name": "detection.ipynb",
   "provenance": []
  },
  "kernelspec": {
   "display_name": "Python 3",
   "language": "python",
   "name": "python3"
  },
  "language_info": {
   "codemirror_mode": {
    "name": "ipython",
    "version": 3
   },
   "file_extension": ".py",
   "mimetype": "text/x-python",
   "name": "python",
   "nbconvert_exporter": "python",
   "pygments_lexer": "ipython3",
   "version": "3.9.7"
  }
 },
 "nbformat": 4,
 "nbformat_minor": 1
}
